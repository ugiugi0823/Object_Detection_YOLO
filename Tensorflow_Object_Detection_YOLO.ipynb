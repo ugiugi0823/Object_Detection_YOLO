{
  "nbformat": 4,
  "nbformat_minor": 0,
  "metadata": {
    "accelerator": "GPU",
    "colab": {
      "provenance": [],
      "machine_shape": "hm"
    },
    "kernelspec": {
      "display_name": "Python 3",
      "name": "python3"
    },
    "gpuClass": "standard"
  },
  "cells": [
    {
      "cell_type": "markdown",
      "metadata": {
        "id": "CdToZZ3xokiM"
      },
      "source": [
        "## YOLOv3 모델 (TensorFlow)\n",
        "\n",
        "- 코드: https://github.com/zzh8829/yolov3-tf2"
      ]
    },
    {
      "cell_type": "markdown",
      "metadata": {
        "id": "3B8C3YpS4n2a"
      },
      "source": [
        "### 모델 다운로드"
      ]
    },
    {
      "cell_type": "code",
      "metadata": {
        "id": "4UQqJcoyiy85"
      },
      "source": [
        "!pip uninstall -y tensorflow keras"
      ],
      "execution_count": null,
      "outputs": []
    },
    {
      "cell_type": "code",
      "metadata": {
        "id": "qb3jBxF9x-JR"
      },
      "source": [
        "!git clone https://github.com/zzh8829/yolov3-tf2\n",
        "%cd /content/yolov3-tf2\n",
        "!pip install -r requirements-gpu.txt\n",
        "!pip install keras==2.4.2"
      ],
      "execution_count": null,
      "outputs": []
    },
    {
      "cell_type": "markdown",
      "metadata": {
        "id": "1Z-L1V51ziJE"
      },
      "source": [
        "### 모델 파일 변환\n",
        "\n",
        "DarkNet의 모델파일을 Keras에서 사용할 수 있는 모델 파일로 변환\n",
        "- `convert.py`: 변환 실행 파일\n",
        "- `yolov3.weight`: Darknet으로 학습된 모델 파일\n",
        "- `yolov3.tf`: Keras Yolov3 모델\n"
      ]
    },
    {
      "cell_type": "markdown",
      "metadata": {
        "id": "gWiQfnVRuXNv"
      },
      "source": [
        "* Yolov3 Weight: https://pjreddie.com/media/files/yolov3.weights"
      ]
    },
    {
      "cell_type": "code",
      "metadata": {
        "id": "hq6yz4Mpx--B"
      },
      "source": [
        "!wget https://pjreddie.com/media/files/yolov3.weights -O ./data/yolov3.weights\n",
        "!python convert.py --weights ./data/yolov3.weights --output ./checkpoints/yolov3.tf"
      ],
      "execution_count": null,
      "outputs": []
    },
    {
      "cell_type": "code",
      "source": [
        "# !wget --help"
      ],
      "metadata": {
        "id": "Ffe0AyF2O9cO"
      },
      "execution_count": null,
      "outputs": []
    },
    {
      "cell_type": "markdown",
      "metadata": {
        "id": "Mcz5iiyrzY9j"
      },
      "source": [
        "### Detector"
      ]
    },
    {
      "cell_type": "code",
      "metadata": {
        "id": "8Rt1bEf4x-7e"
      },
      "source": [
        "import time\n",
        "import cv2\n",
        "import numpy as np\n",
        "import tensorflow as tf\n",
        "\n",
        "from yolov3_tf2.models import YoloV3\n",
        "from yolov3_tf2.dataset import transform_images, load_tfrecord_dataset\n",
        "from yolov3_tf2.utils import draw_outputs\n",
        "from absl import app, logging, flags\n",
        "from absl.flags import FLAGS\n",
        "\n",
        "from keras.preprocessing import image\n",
        "import matplotlib.pyplot as plt\n",
        "from IPython.display import Image, display"
      ],
      "execution_count": null,
      "outputs": []
    },
    {
      "cell_type": "code",
      "source": [
        "# def del_all_flags(FLAGS):\n",
        "#     flags_dict = FLAGS._flags()\n",
        "#     keys_list = [keys for keys in flags_dict]\n",
        "    \n",
        "#     for keys in keys_list:\n",
        "#     \tFLAGS.__delattr__(keys)\n",
        "        \n",
        "# del_all_flags(tf.flags.FLAGS)"
      ],
      "metadata": {
        "id": "G3e_74ixTD9I"
      },
      "execution_count": null,
      "outputs": []
    },
    {
      "cell_type": "code",
      "metadata": {
        "id": "y1f5SWy4x-5I"
      },
      "source": [
        "flags.DEFINE_string('classes2', './data/coco.names', 'classes file')\n",
        "flags.DEFINE_string('weights', './checkpoints/yolov3.tf', 'weights file')\n",
        "flags.DEFINE_boolean('tiny', False, 'yolov3 or yolov3-tiny')\n",
        "flags.DEFINE_integer('size', 416, 'resize images to')\n",
        "flags.DEFINE_string('image', './data/girl.png', 'input image')\n",
        "flags.DEFINE_string('tfrecord', None, 'tfrecord')\n",
        "flags.DEFINE_string('output', './output.jpg', 'output image')\n",
        "flags.DEFINE_integer('num_classes', 80, 'number of classes')\n",
        "\n",
        "app._run_init(['yolov3'], app.parse_flags_with_usage)\n",
        "\n",
        "physical_devices = tf.config.experimental.list_physical_devices('GPU')\n",
        "tf.config.experimental.set_memory_growth(physical_devices[0], True)"
      ],
      "execution_count": null,
      "outputs": []
    },
    {
      "cell_type": "code",
      "metadata": {
        "id": "GuoUVzmvs2Dn"
      },
      "source": [
        "yolo = YoloV3(classes=FLAGS.num_classes)\n",
        "yolo.load_weights(FLAGS.weights).expect_partial()\n",
        "class_names = [c.strip() for c in open(FLAGS.classes).readlines()]"
      ],
      "execution_count": null,
      "outputs": []
    },
    {
      "cell_type": "code",
      "metadata": {
        "id": "pkvDwZsux-yN"
      },
      "source": [
        "print(class_names)"
      ],
      "execution_count": null,
      "outputs": []
    },
    {
      "cell_type": "code",
      "metadata": {
        "id": "xcz1Fl7auovU"
      },
      "source": [
        "def detector():\n",
        "  img_raw = tf.image.decode_image(open(FLAGS.image, 'rb').read(), channels=3)\n",
        "  \n",
        "  img = tf.expand_dims(img_raw, 0)\n",
        "  img = transform_images(img, FLAGS.size)\n",
        "\n",
        "  t1 = time.time()\n",
        "  boxes, scores, classes, nums = yolo(img)\n",
        "  t2 = time.time()\n",
        "  print('time: {}'.format(t2 - t1))\n",
        "\n",
        "  for i in range(nums[0]):\n",
        "    print('{}, {}, {}'.format(class_names[int(classes[0][i])],\n",
        "                              np.array(scores[0][i]),\n",
        "                              np.array(boxes[0][i])))\n",
        "    \n",
        "    img = cv2.cvtColor(img_raw.numpy(), cv2.COLOR_RGB2BGR)\n",
        "    img = draw_outputs(img, (boxes, scores, classes, nums), class_names)\n",
        "\n",
        "    return img"
      ],
      "execution_count": null,
      "outputs": []
    },
    {
      "cell_type": "code",
      "metadata": {
        "id": "-CvDgDe8BWZA"
      },
      "source": [
        "!ls data"
      ],
      "execution_count": null,
      "outputs": []
    },
    {
      "cell_type": "code",
      "metadata": {
        "id": "aF8MA7Est53-"
      },
      "source": [
        "FLAGS.image = 'data/girl.png'\n",
        "Image(filename=FLAGS.image, width=500)"
      ],
      "execution_count": null,
      "outputs": []
    },
    {
      "cell_type": "code",
      "metadata": {
        "id": "saPm5WnBmdZO"
      },
      "source": [
        "output = detector()\n",
        "display(Image(data=bytes(cv2.imencode('.jpg', output)[1]), width=500))"
      ],
      "execution_count": null,
      "outputs": []
    },
    {
      "cell_type": "code",
      "source": [
        "FLAGS.image = 'data/meme.jpg'\n",
        "Image(filename=FLAGS.image, width=1000)"
      ],
      "metadata": {
        "id": "19AMvYKXZBl9"
      },
      "execution_count": null,
      "outputs": []
    },
    {
      "cell_type": "code",
      "metadata": {
        "id": "HE3GJ4tXwMLv"
      },
      "source": [
        "output = detector()\n",
        "display(Image(data=bytes(cv2.imencode('.jpg', output)[1]), width=1000))"
      ],
      "execution_count": null,
      "outputs": []
    },
    {
      "cell_type": "code",
      "metadata": {
        "id": "bg4p-K9JvpQN"
      },
      "source": [
        "FLAGS.image = 'data/street.jpg'\n",
        "Image(filename=FLAGS.image, width=1000)"
      ],
      "execution_count": null,
      "outputs": []
    },
    {
      "cell_type": "code",
      "metadata": {
        "id": "AUTdCRv0wWNd"
      },
      "source": [
        "output = detector()\n",
        "display(Image(data=bytes(cv2.imencode('.jpg', output)[1]), width=1000))"
      ],
      "execution_count": null,
      "outputs": []
    },
    {
      "cell_type": "code",
      "metadata": {
        "id": "VdBsLGyZwXc-"
      },
      "source": [
        "FLAGS.image = 'data/meme2.jpeg'\n",
        "Image(filename=FLAGS.image, width=400)"
      ],
      "execution_count": null,
      "outputs": []
    },
    {
      "cell_type": "code",
      "metadata": {
        "id": "l95WAHb4wlGM"
      },
      "source": [
        "output = detector()\n",
        "display(Image(data=bytes(cv2.imencode('.jpg', output)[1]), width=400))"
      ],
      "execution_count": null,
      "outputs": []
    }
  ]
}