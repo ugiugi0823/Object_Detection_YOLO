{
  "nbformat": 4,
  "nbformat_minor": 0,
  "metadata": {
    "accelerator": "GPU",
    "colab": {
      "provenance": [],
      "machine_shape": "hm",
      "collapsed_sections": [
        "RFIOjR7mQT68",
        "VCeEW9gLVa5N",
        "MezWrYxnf1Cu",
        "1rWe2C4fPVRl"
      ],
      "toc_visible": true
    },
    "kernelspec": {
      "display_name": "Python 3",
      "name": "python3"
    },
    "gpuClass": "standard"
  },
  "cells": [
    {
      "cell_type": "markdown",
      "metadata": {
        "id": "hJPws6thPwgj"
      },
      "source": [
        "## YOLOv3 모델 (PyTorch)\n",
        "\n",
        "* https://github.com/ultralytics/yolov3\n",
        "* https://www.ultralytics.com"
      ]
    },
    {
      "cell_type": "markdown",
      "metadata": {
        "id": "RFIOjR7mQT68"
      },
      "source": [
        "### 모델 다운로드"
      ]
    },
    {
      "cell_type": "code",
      "source": [
        "!git clone https://github.com/ultralytics/yolov3\n",
        "%cd yolov3\n",
        "%pip install -qr requirements.txt"
      ],
      "metadata": {
        "id": "WHwdqbbydaP3"
      },
      "execution_count": null,
      "outputs": []
    },
    {
      "cell_type": "code",
      "metadata": {
        "id": "jfHtQSi_w0Yk"
      },
      "source": [
        "import yaml\n",
        "import torch\n",
        "from IPython.display import Image, clear_output\n",
        "\n",
        "print(f\"Torch:{torch.__version__}({torch.cuda.get_device_properties(0).name if torch.cuda.is_available() else 'CPU'})\")\n"
      ],
      "execution_count": null,
      "outputs": []
    },
    {
      "cell_type": "code",
      "source": [
        "# 폴더 지울떄\n",
        "# !rm -rf yolov3"
      ],
      "metadata": {
        "id": "WWwu7CU-eEie"
      },
      "execution_count": null,
      "outputs": []
    },
    {
      "cell_type": "markdown",
      "metadata": {
        "id": "VCeEW9gLVa5N"
      },
      "source": [
        "### 추론(Inference)\n",
        "\n",
        "`detect.py`: YOLOv3 모델을 이용한 추론"
      ]
    },
    {
      "cell_type": "code",
      "metadata": {
        "id": "428TUtqYVybO"
      },
      "source": [
        "!ls data/images"
      ],
      "execution_count": null,
      "outputs": []
    },
    {
      "cell_type": "code",
      "metadata": {
        "id": "2-6FJrtxfKZ4"
      },
      "source": [
        "Image(filename='data/images/bus.jpg', width=600)"
      ],
      "execution_count": null,
      "outputs": []
    },
    {
      "cell_type": "code",
      "metadata": {
        "id": "m4rCsKryfYOA"
      },
      "source": [
        "Image(filename='data/images/zidane.jpg', width=600)"
      ],
      "execution_count": null,
      "outputs": []
    },
    {
      "cell_type": "code",
      "source": [
        "%pwd"
      ],
      "metadata": {
        "id": "eBrhWjaRe-1k"
      },
      "execution_count": null,
      "outputs": []
    },
    {
      "cell_type": "code",
      "source": [
        "!ls"
      ],
      "metadata": {
        "id": "AQQoyiOpfA96"
      },
      "execution_count": null,
      "outputs": []
    },
    {
      "cell_type": "code",
      "metadata": {
        "id": "_Uwn7bBsVd9T"
      },
      "source": [
        "!python detect.py --weights yolov3.pt --img 640 --conf 0.25 --source data/images/"
      ],
      "execution_count": null,
      "outputs": []
    },
    {
      "cell_type": "code",
      "metadata": {
        "id": "6J-MvN5DgzdH"
      },
      "source": [
        "Image(filename='runs/detect/exp3/zidane.jpg', width=600)"
      ],
      "execution_count": null,
      "outputs": []
    },
    {
      "cell_type": "code",
      "source": [
        "Image(filename='runs/detect/exp3/bus.jpg', width=600)"
      ],
      "metadata": {
        "id": "z1pBgBvzfjds"
      },
      "execution_count": null,
      "outputs": []
    },
    {
      "cell_type": "code",
      "metadata": {
        "id": "agXEknO8fdeg"
      },
      "source": [],
      "execution_count": null,
      "outputs": []
    },
    {
      "cell_type": "markdown",
      "metadata": {
        "id": "9Yz1OiUef1Ct"
      },
      "source": [
        "## YOLOv5 모델 (PyTorch)\n",
        "\n",
        "* https://github.com/ultralytics/yolov5\n",
        "* https://www.ultralytics.com"
      ]
    },
    {
      "cell_type": "markdown",
      "metadata": {
        "id": "Q651IrRxf1Cu"
      },
      "source": [
        "### 모델 다운로드"
      ]
    },
    {
      "cell_type": "code",
      "metadata": {
        "id": "Df3kEWJWf1Cu"
      },
      "source": [
        "%cd /content"
      ],
      "execution_count": null,
      "outputs": []
    },
    {
      "cell_type": "code",
      "source": [
        "!git clone https://github.com/ultralytics/yolov5\n",
        "%cd yolov5\n",
        "%pip install -qr requirements.txt"
      ],
      "metadata": {
        "id": "Wi9VQBbUf0gE"
      },
      "execution_count": null,
      "outputs": []
    },
    {
      "cell_type": "code",
      "source": [
        "import yaml\n",
        "import torch\n",
        "from IPython.display import Image, clear_output"
      ],
      "metadata": {
        "id": "AENeGTQJgE44"
      },
      "execution_count": null,
      "outputs": []
    },
    {
      "cell_type": "markdown",
      "metadata": {
        "id": "MezWrYxnf1Cu"
      },
      "source": [
        "### 추론(Inference)\n",
        "\n",
        "`detect.py`: YOLOv3 모델을 이용한 추론"
      ]
    },
    {
      "cell_type": "code",
      "metadata": {
        "id": "Sf6WvF0Sf1Cu"
      },
      "source": [
        "!ls data/images"
      ],
      "execution_count": null,
      "outputs": []
    },
    {
      "cell_type": "code",
      "source": [
        "Image(filename='data/images/zidane.jpg', width=600)"
      ],
      "metadata": {
        "id": "j8jxcbQcgQ2f"
      },
      "execution_count": null,
      "outputs": []
    },
    {
      "cell_type": "code",
      "source": [
        "Image(filename='data/images/bus.jpg', width=600)"
      ],
      "metadata": {
        "id": "5OOG3RgVgRhm"
      },
      "execution_count": null,
      "outputs": []
    },
    {
      "cell_type": "code",
      "metadata": {
        "id": "0YdPxmnAf1Cu"
      },
      "source": [
        "!python detect.py --weights yolov5s.pt --img 640 --conf 0.25 --source data/images/"
      ],
      "execution_count": null,
      "outputs": []
    },
    {
      "cell_type": "code",
      "metadata": {
        "id": "O3YGuawMf1Cv"
      },
      "source": [
        "Image(filename='runs/detect/exp/bus.jpg', width=600)"
      ],
      "execution_count": null,
      "outputs": []
    },
    {
      "cell_type": "code",
      "metadata": {
        "id": "rJZJC0rdgb2J"
      },
      "source": [
        "Image(filename='runs/detect/exp/zidane.jpg', width=600)"
      ],
      "execution_count": null,
      "outputs": []
    },
    {
      "cell_type": "code",
      "metadata": {
        "id": "OOJnZtHIf1Cv"
      },
      "source": [],
      "execution_count": null,
      "outputs": []
    },
    {
      "cell_type": "code",
      "metadata": {
        "id": "qw0XE6Ljf1Cv"
      },
      "source": [],
      "execution_count": null,
      "outputs": []
    },
    {
      "cell_type": "markdown",
      "metadata": {
        "id": "dzBi0KuRPVRl"
      },
      "source": [
        "## 포트홀 탐지 모델"
      ]
    },
    {
      "cell_type": "markdown",
      "metadata": {
        "id": "1rWe2C4fPVRl"
      },
      "source": [
        "### 데이터셋 다운로드\n",
        "\n",
        "* 포트홀 데이터셋: https://public.roboflow.com/object-detection/pothole"
      ]
    },
    {
      "cell_type": "code",
      "metadata": {
        "id": "fc5-Lo5ePVRl"
      },
      "source": [
        "%mkdir /content/yolov5/pothole"
      ],
      "execution_count": null,
      "outputs": []
    },
    {
      "cell_type": "code",
      "metadata": {
        "id": "ubwnEYh1PVRm"
      },
      "source": [
        "%cd /content/yolov5/pothole"
      ],
      "execution_count": null,
      "outputs": []
    },
    {
      "cell_type": "code",
      "metadata": {
        "id": "acWCrnkhPVRm"
      },
      "source": [
        "!curl -L \"https://public.roboflow.com/ds/L1EfCSgBAp?key=qaWO6QrJ4r\" > roboflow.zip; unzip roboflow.zip; rm roboflow.zip"
      ],
      "execution_count": null,
      "outputs": []
    },
    {
      "cell_type": "code",
      "source": [
        "Image(filename='/content/yolov5/pothole/train/images/img-100_jpg.rf.233751cac3399aa80b5e58a2afbb753a.jpg', width=1000)"
      ],
      "metadata": {
        "id": "TEjU1CPM9KTu"
      },
      "execution_count": null,
      "outputs": []
    },
    {
      "cell_type": "code",
      "source": [
        "Image(filename='/content/yolov5/pothole/test/images/img-105_jpg.rf.3fe9dff3d1631e79ecb480ff403bcb86.jpg', width=1000)"
      ],
      "metadata": {
        "id": "mtzYyfdv9lKZ"
      },
      "execution_count": null,
      "outputs": []
    },
    {
      "cell_type": "code",
      "metadata": {
        "id": "w8IZH0DKPVRm"
      },
      "source": [
        "from glob import glob\n",
        "\n",
        "train_img_list = glob('/content/yolov5/pothole/train/images/*.jpg')\n",
        "test_img_list = glob('/content/yolov5/pothole/test/images/*.jpg')\n",
        "valid_img_list = glob('/content/yolov5/pothole/valid/images/*.jpg')\n",
        "print(len(train_img_list), len(test_img_list), len(valid_img_list))"
      ],
      "execution_count": null,
      "outputs": []
    },
    {
      "cell_type": "code",
      "metadata": {
        "id": "8DkFIotMPVRm"
      },
      "source": [
        "import yaml\n",
        "\n",
        "with open('/content/yolov5/pothole/train.txt', 'w') as f:\n",
        "  f.write('`n'.join(train_img_list) + '`n')\n",
        "\n",
        "with open('/content/yolov5/pothole/test.txt', 'w') as f:\n",
        "  f.write('`n'.join(test_img_list) + '`n')\n",
        "\n",
        "with open('/content/yolov5/pothole/valid.txt', 'w') as f:\n",
        "  f.write('`n'.join(valid_img_list) + '`n')"
      ],
      "execution_count": null,
      "outputs": []
    },
    {
      "cell_type": "code",
      "metadata": {
        "id": "RzxFmORpPVRn"
      },
      "source": [
        "from IPython.core.magic import register_line_cell_magic\n",
        "\n",
        "@register_line_cell_magic\n",
        "def writetemplate(line, cell):\n",
        "  with open(line, 'w') as f:\n",
        "    f.write(cell.format(**globals()))"
      ],
      "execution_count": null,
      "outputs": []
    },
    {
      "cell_type": "code",
      "metadata": {
        "id": "uhJsaYkDPVRn"
      },
      "source": [
        "%cat /content/yolov5/pothole/data.yaml"
      ],
      "execution_count": null,
      "outputs": []
    },
    {
      "cell_type": "code",
      "source": [
        "%pwd"
      ],
      "metadata": {
        "id": "cRsBhOD8H57a"
      },
      "execution_count": null,
      "outputs": []
    },
    {
      "cell_type": "code",
      "source": [
        "%%writetemplate /content/yolov5/pothole/data.yaml\n",
        "\n",
        "train: ./pothole/train/images\n",
        "test: ./pothole/test/images\n",
        "val: ./pothole/valid/images\n",
        "\n",
        "nc: 1\n",
        "names: ['pothole']"
      ],
      "metadata": {
        "id": "OpmYRf3LHagU"
      },
      "execution_count": null,
      "outputs": []
    },
    {
      "cell_type": "code",
      "source": [
        "%cat /content/yolov5/pothole/data.yaml"
      ],
      "metadata": {
        "id": "UaS_Fje-HmgJ"
      },
      "execution_count": null,
      "outputs": []
    },
    {
      "cell_type": "markdown",
      "metadata": {
        "id": "JwDAnAIOPVRn"
      },
      "source": [
        "### 모델 구성"
      ]
    },
    {
      "cell_type": "code",
      "metadata": {
        "id": "oDYQyZJDPVRn"
      },
      "source": [
        "import yaml\n",
        "\n",
        "with open('/content/yolov5/pothole/data.yaml', 'r') as stream:\n",
        "  num_classes = str(yaml.safe_load(stream)['nc'])\n",
        "\n",
        "%cat /content/yolov5/models/yolov5s.yaml"
      ],
      "execution_count": null,
      "outputs": []
    },
    {
      "cell_type": "code",
      "metadata": {
        "id": "Qjhh6qfWPVRo"
      },
      "source": [
        "%%writetemplate /content/yolov5/models/custom_yolov5s.yaml\n",
        "\n",
        "# Parameters\n",
        "nc: {num_classes}  # number of classes\n",
        "depth_multiple: 0.33  # model depth multiple\n",
        "width_multiple: 0.50  # layer channel multiple\n",
        "anchors:\n",
        "  - [10,13, 16,30, 33,23]  # P3/8\n",
        "  - [30,61, 62,45, 59,119]  # P4/16\n",
        "  - [116,90, 156,198, 373,326]  # P5/32\n",
        "\n",
        "# YOLOv5 v6.0 backbone\n",
        "backbone:\n",
        "  # [from, number, module, args]\n",
        "  [[-1, 1, Conv, [64, 6, 2, 2]],  # 0-P1/2\n",
        "   [-1, 1, Conv, [128, 3, 2]],  # 1-P2/4\n",
        "   [-1, 3, C3, [128]],\n",
        "   [-1, 1, Conv, [256, 3, 2]],  # 3-P3/8\n",
        "   [-1, 6, C3, [256]],\n",
        "   [-1, 1, Conv, [512, 3, 2]],  # 5-P4/16\n",
        "   [-1, 9, C3, [512]],\n",
        "   [-1, 1, Conv, [1024, 3, 2]],  # 7-P5/32\n",
        "   [-1, 3, C3, [1024]],\n",
        "   [-1, 1, SPPF, [1024, 5]],  # 9\n",
        "  ]\n",
        "\n",
        "# YOLOv5 v6.0 head\n",
        "head:\n",
        "  [[-1, 1, Conv, [512, 1, 1]],\n",
        "   [-1, 1, nn.Upsample, [None, 2, 'nearest']],\n",
        "   [[-1, 6], 1, Concat, [1]],  # cat backbone P4\n",
        "   [-1, 3, C3, [512, False]],  # 13\n",
        "\n",
        "   [-1, 1, Conv, [256, 1, 1]],\n",
        "   [-1, 1, nn.Upsample, [None, 2, 'nearest']],\n",
        "   [[-1, 4], 1, Concat, [1]],  # cat backbone P3\n",
        "   [-1, 3, C3, [256, False]],  # 17 (P3/8-small)\n",
        "\n",
        "   [-1, 1, Conv, [256, 3, 2]],\n",
        "   [[-1, 14], 1, Concat, [1]],  # cat head P4\n",
        "   [-1, 3, C3, [512, False]],  # 20 (P4/16-medium)\n",
        "\n",
        "   [-1, 1, Conv, [512, 3, 2]],\n",
        "   [[-1, 10], 1, Concat, [1]],  # cat head P5\n",
        "   [-1, 3, C3, [1024, False]],  # 23 (P5/32-large)\n",
        "\n",
        "   [[17, 20, 23], 1, Detect, [nc, anchors]],  # Detect(P3, P4, P5)\n",
        "  ]"
      ],
      "execution_count": null,
      "outputs": []
    },
    {
      "cell_type": "code",
      "metadata": {
        "id": "iUGLbHxBPVRo"
      },
      "source": [
        "%cat /content/yolov5/models/custom_yolov5s.yaml\n"
      ],
      "execution_count": null,
      "outputs": []
    },
    {
      "cell_type": "markdown",
      "metadata": {
        "id": "WhgXiNM3PVRo"
      },
      "source": [
        "### 학습(Training)\n",
        "\n",
        "* `img`: 입력 이미지 크기 정의\n",
        "* `batch`: 배치 크기 결정\n",
        "* `epochs`: 학습 기간 개수 정의\n",
        "* `data`: yaml 파일 경로\n",
        "* `cfg`: 모델 구성 지정\n",
        "* `weights`: 가중치에 대한 경로 지정\n",
        "* `name`: 결과 이름\n",
        "* `nosave`: 최종 체크포인트만 저장\n",
        "* `cache`: 빠른 학습을 위한 이미지 캐시"
      ]
    },
    {
      "cell_type": "code",
      "metadata": {
        "id": "TFrTFmSjPVRo"
      },
      "source": [
        "import time as time\n",
        "%time\n",
        "%cd /content/yolov5/\n",
        "\n",
        "!python train.py --img 640 --batch 32 --epochs 100 --data ./pothole/data.yaml --cfg ./models/custom_yolov5s.yaml --weights '' --name pothole_results --cache"
      ],
      "execution_count": null,
      "outputs": []
    },
    {
      "cell_type": "code",
      "metadata": {
        "id": "mXsLUH_hPVRo"
      },
      "source": [
        "%load_ext tensorboard\n",
        "%tensorboard --logdir runs"
      ],
      "execution_count": null,
      "outputs": []
    },
    {
      "cell_type": "code",
      "source": [
        "!ls /content/yolov5/runs/train/pothole_results/"
      ],
      "metadata": {
        "id": "f1GUVnzHSeY0"
      },
      "execution_count": null,
      "outputs": []
    },
    {
      "cell_type": "code",
      "source": [
        "from IPython.display import Image, display"
      ],
      "metadata": {
        "id": "G1U_oNlvS8Td"
      },
      "execution_count": null,
      "outputs": []
    },
    {
      "cell_type": "code",
      "metadata": {
        "id": "dyqT-naFPVRo"
      },
      "source": [
        "Image(filename='/content/yolov5/runs/train/pothole_results/results.png', width=1000)"
      ],
      "execution_count": null,
      "outputs": []
    },
    {
      "cell_type": "code",
      "metadata": {
        "id": "D_uUya3RPVRp"
      },
      "source": [
        "Image(filename='/content/yolov5/runs/train/pothole_results/train_batch0.jpg', width=1000)"
      ],
      "execution_count": null,
      "outputs": []
    },
    {
      "cell_type": "code",
      "metadata": {
        "id": "bq1bcKGVPVRp"
      },
      "source": [
        "Image(filename='/content/yolov5/runs/train/pothole_results/val_batch0_labels.jpg', width=1000)"
      ],
      "execution_count": null,
      "outputs": []
    },
    {
      "cell_type": "code",
      "metadata": {
        "id": "gZZd8aPBPVRp"
      },
      "source": [],
      "execution_count": null,
      "outputs": []
    },
    {
      "cell_type": "markdown",
      "metadata": {
        "id": "xX4_WTIXPVRp"
      },
      "source": [
        "### 검증(Validation)"
      ]
    },
    {
      "cell_type": "code",
      "metadata": {
        "id": "LUiFq2dmPVRp"
      },
      "source": [
        "!python val.py --weights runs/train/pothole_results/weights/best.pt --data ./pothole/data.yaml --img 640 --iou 0.65 --half"
      ],
      "execution_count": null,
      "outputs": []
    },
    {
      "cell_type": "code",
      "metadata": {
        "id": "QqZ0xQmuPVRp"
      },
      "source": [
        "!python val.py --weights runs/train/pothole_results/weights/best.pt --data ./pothole/data.yaml --img 640 --iou 0.65 --task test"
      ],
      "execution_count": null,
      "outputs": []
    },
    {
      "cell_type": "markdown",
      "metadata": {
        "id": "ii9OnFmUPVRp"
      },
      "source": [
        "### 추론(Inference)"
      ]
    },
    {
      "cell_type": "code",
      "metadata": {
        "id": "4W2ZGchePVRp"
      },
      "source": [
        "%ls runs/train/pothole_results/weights"
      ],
      "execution_count": null,
      "outputs": []
    },
    {
      "cell_type": "code",
      "metadata": {
        "id": "e41gNpGKPVRq"
      },
      "source": [
        "!python detect.py --weights runs/train/pothole_results/weights/best.pt --img 640 --conf 0.4 --source ./pothole/test/images"
      ],
      "execution_count": null,
      "outputs": []
    },
    {
      "cell_type": "code",
      "metadata": {
        "id": "HB6Y2TEdPVRq"
      },
      "source": [
        "import glob\n",
        "import random\n",
        "from IPython.display import Image, display\n",
        "\n",
        "image_name = random.choice(glob.glob('/content/yolov5/runs/detect/exp2/*.jpg'))\n",
        "display(Image(filename=image_name))"
      ],
      "execution_count": null,
      "outputs": []
    },
    {
      "cell_type": "code",
      "source": [
        "Image(filename='/content/yolov5/runs/detect/exp2/img-105_jpg.rf.3fe9dff3d1631e79ecb480ff403bcb86.jpg', width=1000)"
      ],
      "metadata": {
        "id": "zCpgz_hr-cXO"
      },
      "execution_count": null,
      "outputs": []
    },
    {
      "cell_type": "markdown",
      "metadata": {
        "id": "rUe6Bn2mPVRq"
      },
      "source": [
        "### 모델 내보내기"
      ]
    },
    {
      "cell_type": "code",
      "source": [
        "from google.colab import drive\n",
        "drive.mount('/content/drive')"
      ],
      "metadata": {
        "id": "wlI9k1QMj1lW"
      },
      "execution_count": null,
      "outputs": []
    },
    {
      "cell_type": "code",
      "source": [
        "%mkdir /content/drive/MyDrive/pothole\n",
        "%cp /content/yolov5/runs/train/pothole_results/weights/best.pt /content/drive/MyDrive/pothole"
      ],
      "metadata": {
        "id": "8N-2AUuvj-bf"
      },
      "execution_count": null,
      "outputs": []
    },
    {
      "cell_type": "markdown",
      "metadata": {
        "id": "wUMLcPl6BhdW"
      },
      "source": [
        "## 연기 탐지 모델"
      ]
    },
    {
      "cell_type": "markdown",
      "metadata": {
        "id": "qttLrWBuBhdW"
      },
      "source": [
        "### 데이터셋 다운로드\n",
        "\n",
        "* 연기 데이터셋: https://public.roboflow.com/object-detection/wildfire-smoke/"
      ]
    },
    {
      "cell_type": "code",
      "metadata": {
        "id": "pOwW81vVBhdX"
      },
      "source": [
        "%mkdir /content/yolov5/smoke\n",
        "%cd /content/yolov5/smoke\n",
        "!curl -L \"https://public.roboflow.com/ds/DS0LGsrR8G?key=ztCXPkKVgt\" > roboflow.zip; unzip roboflow.zip; rm roboflow.zip"
      ],
      "execution_count": null,
      "outputs": []
    },
    {
      "cell_type": "code",
      "metadata": {
        "id": "3g-c-q47BhdX"
      },
      "source": [
        "from glob import glob\n",
        "\n",
        "train_img_list = glob('/content/yolov5/smoke/train/images/*.jpg')\n",
        "test_img_list = glob('/content/yolov5/smoke/test/images/*.jpg')\n",
        "valid_img_list = glob('/content/yolov5/smoke/valid/images/*.jpg')\n",
        "print(len(train_img_list), len(test_img_list), len(valid_img_list))"
      ],
      "execution_count": null,
      "outputs": []
    },
    {
      "cell_type": "code",
      "metadata": {
        "id": "8OCl1i_nBhdY"
      },
      "source": [
        "import yaml\n",
        "\n",
        "with open('/content/yolov5/smoke/train.txt', 'w') as f:\n",
        "  f.write('`n'.join(train_img_list) + '`n')\n",
        "\n",
        "with open('/content/yolov5/smoke/test.txt', 'w') as f:\n",
        "  f.write('`n'.join(test_img_list) + '`n')\n",
        "\n",
        "with open('/content/yolov5/smoke/valid.txt', 'w') as f:\n",
        "  f.write('`n'.join(valid_img_list) + '`n')"
      ],
      "execution_count": null,
      "outputs": []
    },
    {
      "cell_type": "code",
      "metadata": {
        "id": "CXHacJVABhdY"
      },
      "source": [
        "%cat /content/yolov5/smoke/data.yaml"
      ],
      "execution_count": null,
      "outputs": []
    },
    {
      "cell_type": "code",
      "metadata": {
        "id": "dSiGIXMpBhdZ"
      },
      "source": [
        "%%writetemplate /content/yolov5/smoke/data.yaml\n",
        "\n",
        "train: ./smoke/train/images\n",
        "test: ./smoke/test/images\n",
        "val: ./smoke/valid/images\n",
        "\n",
        "nc: 1\n",
        "names: ['smoke']"
      ],
      "execution_count": null,
      "outputs": []
    },
    {
      "cell_type": "code",
      "metadata": {
        "id": "s_aXnEkLBhdZ"
      },
      "source": [],
      "execution_count": null,
      "outputs": []
    },
    {
      "cell_type": "code",
      "metadata": {
        "id": "hkjBtLP_Bhda"
      },
      "source": [],
      "execution_count": null,
      "outputs": []
    },
    {
      "cell_type": "markdown",
      "metadata": {
        "id": "Lq3bPM4CBhda"
      },
      "source": [
        "### 모델 구성"
      ]
    },
    {
      "cell_type": "code",
      "metadata": {
        "id": "yA64nK-QBhda"
      },
      "source": [
        "import yaml\n",
        "\n",
        "with open('/content/yolov5/smoke/data.yaml', 'r') as stream:\n",
        "  num_classes = str(yaml.safe_load(stream)['nc'])\n",
        "\n",
        "%cat /content/yolov5/models/yolov5s.yaml"
      ],
      "execution_count": null,
      "outputs": []
    },
    {
      "cell_type": "code",
      "metadata": {
        "id": "-cB64YmIBhdb"
      },
      "source": [
        "%%writetemplate /content/yolov5/models/custom_yolov5s.yaml\n",
        "\n",
        "# Parameters\n",
        "nc: {num_classes}  # number of classes\n",
        "depth_multiple: 0.33  # model depth multiple\n",
        "width_multiple: 0.50  # layer channel multiple\n",
        "anchors:\n",
        "  - [10,13, 16,30, 33,23]  # P3/8\n",
        "  - [30,61, 62,45, 59,119]  # P4/16\n",
        "  - [116,90, 156,198, 373,326]  # P5/32\n",
        "\n",
        "# YOLOv5 v6.0 backbone\n",
        "backbone:\n",
        "  # [from, number, module, args]\n",
        "  [[-1, 1, Conv, [64, 6, 2, 2]],  # 0-P1/2\n",
        "   [-1, 1, Conv, [128, 3, 2]],  # 1-P2/4\n",
        "   [-1, 3, C3, [128]],\n",
        "   [-1, 1, Conv, [256, 3, 2]],  # 3-P3/8\n",
        "   [-1, 6, C3, [256]],\n",
        "   [-1, 1, Conv, [512, 3, 2]],  # 5-P4/16\n",
        "   [-1, 9, C3, [512]],\n",
        "   [-1, 1, Conv, [1024, 3, 2]],  # 7-P5/32\n",
        "   [-1, 3, C3, [1024]],\n",
        "   [-1, 1, SPPF, [1024, 5]],  # 9\n",
        "  ]\n",
        "\n",
        "# YOLOv5 v6.0 head\n",
        "head:\n",
        "  [[-1, 1, Conv, [512, 1, 1]],\n",
        "   [-1, 1, nn.Upsample, [None, 2, 'nearest']],\n",
        "   [[-1, 6], 1, Concat, [1]],  # cat backbone P4\n",
        "   [-1, 3, C3, [512, False]],  # 13\n",
        "\n",
        "   [-1, 1, Conv, [256, 1, 1]],\n",
        "   [-1, 1, nn.Upsample, [None, 2, 'nearest']],\n",
        "   [[-1, 4], 1, Concat, [1]],  # cat backbone P3\n",
        "   [-1, 3, C3, [256, False]],  # 17 (P3/8-small)\n",
        "\n",
        "   [-1, 1, Conv, [256, 3, 2]],\n",
        "   [[-1, 14], 1, Concat, [1]],  # cat head P4\n",
        "   [-1, 3, C3, [512, False]],  # 20 (P4/16-medium)\n",
        "\n",
        "   [-1, 1, Conv, [512, 3, 2]],\n",
        "   [[-1, 10], 1, Concat, [1]],  # cat head P5\n",
        "   [-1, 3, C3, [1024, False]],  # 23 (P5/32-large)\n",
        "\n",
        "   [[17, 20, 23], 1, Detect, [nc, anchors]],  # Detect(P3, P4, P5)\n",
        "  ]"
      ],
      "execution_count": null,
      "outputs": []
    },
    {
      "cell_type": "code",
      "metadata": {
        "id": "TY6vVNgDBhdb"
      },
      "source": [
        "%cat /content/yolov5/models/custom_yolov5s.yaml"
      ],
      "execution_count": null,
      "outputs": []
    },
    {
      "cell_type": "markdown",
      "metadata": {
        "id": "8Ix7Y0Z-2LcY"
      },
      "source": [
        "### 학습(Training)\n",
        "\n",
        "* `img`: 입력 이미지 크기 정의\n",
        "* `batch`: 배치 크기 결정\n",
        "* `epochs`: 학습 기간 개수 정의\n",
        "* `data`: yaml 파일 경로\n",
        "* `cfg`: 모델 구성 지정\n",
        "* `weights`: 가중치에 대한 경로 지정\n",
        "* `name`: 결과 이름\n",
        "* `nosave`: 최종 체크포인트만 저장\n",
        "* `cache`: 빠른 학습을 위한 이미지 캐시"
      ]
    },
    {
      "cell_type": "code",
      "source": [
        "import time as time\n",
        "%time\n",
        "%cd /content/yolov5/\n",
        "\n",
        "!python train.py --img 640 --batch 32 --epochs 100 --data ./smoke/data.yaml --cfg ./models/custom_yolov5s.yaml --weights '' --name smoke_results --cache"
      ],
      "metadata": {
        "id": "38e-FA65my2z"
      },
      "execution_count": null,
      "outputs": []
    },
    {
      "cell_type": "code",
      "source": [
        "%load_ext tensorboard\n",
        "%tensorboard --logdir runs"
      ],
      "metadata": {
        "id": "-DGPA4xgulb8"
      },
      "execution_count": null,
      "outputs": []
    },
    {
      "cell_type": "code",
      "source": [
        "!ls /content/yolov5/runs/train/smoke_results/"
      ],
      "metadata": {
        "id": "CCtPUe_c2-x_"
      },
      "execution_count": null,
      "outputs": []
    },
    {
      "cell_type": "code",
      "source": [
        "Image(filename='/content/yolov5/runs/train/smoke_results/results.png', width=1000)"
      ],
      "metadata": {
        "id": "8EVOSxtm3GSo"
      },
      "execution_count": null,
      "outputs": []
    },
    {
      "cell_type": "code",
      "source": [
        "Image(filename='/content/yolov5/runs/train/smoke_results/train_batch0.jpg', width=1000)"
      ],
      "metadata": {
        "id": "C6qzXd0i3PtK"
      },
      "execution_count": null,
      "outputs": []
    },
    {
      "cell_type": "code",
      "source": [
        "Image(filename='/content/yolov5/runs/train/smoke_results/val_batch0_labels.jpg', width=1000)"
      ],
      "metadata": {
        "id": "Id80QHca3U2i"
      },
      "execution_count": null,
      "outputs": []
    },
    {
      "cell_type": "markdown",
      "metadata": {
        "id": "UTbQnKyfBhde"
      },
      "source": [
        "### 검증(Validation)"
      ]
    },
    {
      "cell_type": "code",
      "metadata": {
        "id": "sQNGppm-Bhde"
      },
      "source": [
        "!python val.py --weight runs/train/smoke_results/weights/best.pt --data ./smoke/data.yaml --img 640 --iou 0.65 --half"
      ],
      "execution_count": null,
      "outputs": []
    },
    {
      "cell_type": "code",
      "metadata": {
        "id": "uabgmGKjBhdf"
      },
      "source": [
        "!python val.py --weight runs/train/smoke_results/weights/best.pt --data ./smoke/data.yaml --img 640 --iou 0.65 --task test"
      ],
      "execution_count": null,
      "outputs": []
    },
    {
      "cell_type": "markdown",
      "metadata": {
        "id": "8cA_BNlABhdf"
      },
      "source": [
        "### 추론(Inference)"
      ]
    },
    {
      "cell_type": "code",
      "metadata": {
        "id": "69F608vCBhdf"
      },
      "source": [
        "!python detect.py --weight runs/train/smoke_results/weights/best.pt --img 640 --conf 0.4 --source ./smoke/test/images"
      ],
      "execution_count": null,
      "outputs": []
    },
    {
      "cell_type": "code",
      "metadata": {
        "id": "JrtDdZYQBhdg"
      },
      "source": [
        "import glob\n",
        "\n",
        "image_name = random.choice(glob.glob('runs/detect/exp2/*.jpg'))\n",
        "display(Image(filename=image_name))"
      ],
      "execution_count": null,
      "outputs": []
    },
    {
      "cell_type": "code",
      "metadata": {
        "id": "XdIwkCivBhdg"
      },
      "source": [],
      "execution_count": null,
      "outputs": []
    },
    {
      "cell_type": "markdown",
      "metadata": {
        "id": "aIWZwO0dBhdh"
      },
      "source": [
        "### 모델 내보내기"
      ]
    },
    {
      "cell_type": "code",
      "metadata": {
        "id": "LKIelD2lBhdh"
      },
      "source": [
        "%mkdir /content/drive/MyDrive/smoke/\n",
        "%cp /content/yolov5/runs/train/smoke_results/weights/best.pt /content/drive/MyDrive/smoke/"
      ],
      "execution_count": null,
      "outputs": []
    },
    {
      "cell_type": "code",
      "metadata": {
        "id": "CnUsqETNBhdh"
      },
      "source": [],
      "execution_count": null,
      "outputs": []
    },
    {
      "cell_type": "markdown",
      "metadata": {
        "id": "lczbkCc42LcV"
      },
      "source": [
        "## 안전모 탐지 모델"
      ]
    },
    {
      "cell_type": "markdown",
      "metadata": {
        "id": "YSf3ORif2LcW"
      },
      "source": [
        "### 데이터셋 다운로드\n",
        "\n",
        "* 안전모 데이터셋: https://public.roboflow.com/object-detection/hard-hat-workers"
      ]
    },
    {
      "cell_type": "code",
      "metadata": {
        "id": "Nrnfgo3d2LcW"
      },
      "source": [
        "%mkdir /content/yolov5/hardhat\n",
        "%cd /content/yolov5/hardhat\n",
        "!curl -L \"https://public.roboflow.com/ds/V1bmharPxr?key=2oFjxS9aEk\" > roboflow.zip; unzip roboflow.zip; rm roboflow.zip"
      ],
      "execution_count": null,
      "outputs": []
    },
    {
      "cell_type": "code",
      "source": [
        "from glob import glob\n",
        "\n",
        "train_img_list = glob('/content/yolov5/hardhat/train/images/*.jpg')\n",
        "test_img_list = glob('/content/yolov5/hardhat/test/images/*.jpg')\n",
        "\n",
        "print(len(train_img_list), len(test_img_list))"
      ],
      "metadata": {
        "id": "RIj2GS_1y2v4"
      },
      "execution_count": null,
      "outputs": []
    },
    {
      "cell_type": "code",
      "metadata": {
        "id": "MV3RtNe93F0M"
      },
      "source": [
        "from sklearn.model_selection import train_test_split\n",
        "\n",
        "test_img_list, val_img_list = train_test_split(test_img_list, test_size=0.5, random_state=777)\n",
        "print(len(test_img_list), len(val_img_list))"
      ],
      "execution_count": null,
      "outputs": []
    },
    {
      "cell_type": "code",
      "source": [
        "import yaml\n",
        "\n",
        "with open('/content/yolov5/hardhat/train.txt', 'w') as f:\n",
        "  f.write('`n'.join(train_img_list) + '`n')\n",
        "\n",
        "with open('/content/yolov5/hardhat/test.txt', 'w') as f:\n",
        "  f.write('`n'.join(test_img_list) + '`n')\n",
        "\n",
        "with open('/content/yolov5/hardhat/valid.txt', 'w') as f:\n",
        "  f.write('`n'.join(valid_img_list) + '`n')"
      ],
      "metadata": {
        "id": "VA_Z0hVf0Yyi"
      },
      "execution_count": null,
      "outputs": []
    },
    {
      "cell_type": "code",
      "metadata": {
        "id": "sTFV97CV3PO9"
      },
      "source": [
        "%cat /content/yolov5/hardhat/data.yaml"
      ],
      "execution_count": null,
      "outputs": []
    },
    {
      "cell_type": "code",
      "source": [
        "%%writetemplate /content/yolov5/hardhat/data.yaml\n",
        "\n",
        "train: ./hardhat/train/images\n",
        "test: ./hardhat/test/images\n",
        "val: ./hardhat/test/images\n",
        "# 요기 보면, valid를 test 나누어 썼기 때문에 경로 조심해야 한다.\n",
        "nc: 3\n",
        "names: ['head', 'helmet', 'person']"
      ],
      "metadata": {
        "id": "HwxLh4vP0pNp"
      },
      "execution_count": null,
      "outputs": []
    },
    {
      "cell_type": "markdown",
      "metadata": {
        "id": "UXoBfsq32LcX"
      },
      "source": [
        "### 모델 구성"
      ]
    },
    {
      "cell_type": "code",
      "metadata": {
        "id": "ZCqe8Jem2LcX"
      },
      "source": [
        "import yaml\n",
        "\n",
        "with open('data.yaml', 'r') as stream:\n",
        "  num_classes = str(yaml.safe_load(stream)['nc'])\n",
        "\n",
        "%cat /content/yolov5/models/yolov5s.yaml"
      ],
      "execution_count": null,
      "outputs": []
    },
    {
      "cell_type": "code",
      "metadata": {
        "id": "tXTqlpmL2LcY"
      },
      "source": [
        "%%writetemplate /content/yolov5/models/custom_yolov5s.yaml\n",
        "\n",
        "# Parameters\n",
        "nc: {num_classes}  # number of classes\n",
        "depth_multiple: 0.33  # model depth multiple\n",
        "width_multiple: 0.50  # layer channel multiple\n",
        "anchors:\n",
        "  - [10,13, 16,30, 33,23]  # P3/8\n",
        "  - [30,61, 62,45, 59,119]  # P4/16\n",
        "  - [116,90, 156,198, 373,326]  # P5/32\n",
        "\n",
        "# YOLOv5 v6.0 backbone\n",
        "backbone:\n",
        "  # [from, number, module, args]\n",
        "  [[-1, 1, Conv, [64, 6, 2, 2]],  # 0-P1/2\n",
        "   [-1, 1, Conv, [128, 3, 2]],  # 1-P2/4\n",
        "   [-1, 3, C3, [128]],\n",
        "   [-1, 1, Conv, [256, 3, 2]],  # 3-P3/8\n",
        "   [-1, 6, C3, [256]],\n",
        "   [-1, 1, Conv, [512, 3, 2]],  # 5-P4/16\n",
        "   [-1, 9, C3, [512]],\n",
        "   [-1, 1, Conv, [1024, 3, 2]],  # 7-P5/32\n",
        "   [-1, 3, C3, [1024]],\n",
        "   [-1, 1, SPPF, [1024, 5]],  # 9\n",
        "  ]\n",
        "\n",
        "# YOLOv5 v6.0 head\n",
        "head:\n",
        "  [[-1, 1, Conv, [512, 1, 1]],\n",
        "   [-1, 1, nn.Upsample, [None, 2, 'nearest']],\n",
        "   [[-1, 6], 1, Concat, [1]],  # cat backbone P4\n",
        "   [-1, 3, C3, [512, False]],  # 13\n",
        "\n",
        "   [-1, 1, Conv, [256, 1, 1]],\n",
        "   [-1, 1, nn.Upsample, [None, 2, 'nearest']],\n",
        "   [[-1, 4], 1, Concat, [1]],  # cat backbone P3\n",
        "   [-1, 3, C3, [256, False]],  # 17 (P3/8-small)\n",
        "\n",
        "   [-1, 1, Conv, [256, 3, 2]],\n",
        "   [[-1, 14], 1, Concat, [1]],  # cat head P4\n",
        "   [-1, 3, C3, [512, False]],  # 20 (P4/16-medium)\n",
        "\n",
        "   [-1, 1, Conv, [512, 3, 2]],\n",
        "   [[-1, 10], 1, Concat, [1]],  # cat head P5\n",
        "   [-1, 3, C3, [1024, False]],  # 23 (P5/32-large)\n",
        "\n",
        "   [[17, 20, 23], 1, Detect, [nc, anchors]],  # Detect(P3, P4, P5)\n",
        "  ]"
      ],
      "execution_count": null,
      "outputs": []
    },
    {
      "cell_type": "code",
      "metadata": {
        "id": "e_q0x5J83teC"
      },
      "source": [
        "%cat /content/yolov5/models/custom_yolov5s.yaml"
      ],
      "execution_count": null,
      "outputs": []
    },
    {
      "cell_type": "markdown",
      "metadata": {
        "id": "mtG8E8VoBhdb"
      },
      "source": [
        "### 학습(Training)\n",
        "\n",
        "* `img`: 입력 이미지 크기 정의\n",
        "* `batch`: 배치 크기 결정\n",
        "* `epochs`: 학습 기간 개수 정의\n",
        "* `data`: yaml 파일 경로\n",
        "* `cfg`: 모델 구성 지정\n",
        "* `weights`: 가중치에 대한 경로 지정\n",
        "* `name`: 결과 이름\n",
        "* `nosave`: 최종 체크포인트만 저장\n",
        "* `cache`: 빠른 학습을 위한 이미지 캐시"
      ]
    },
    {
      "cell_type": "code",
      "metadata": {
        "id": "HKCb5hlOBhdb"
      },
      "source": [
        "%time\n",
        "%cd /content/yolov5/\n",
        "\n",
        "!python train.py --img 416 --batch 64 --epochs 50 --data ./hardhat/data.yaml --cfg ./models/custom_yolov5s.yaml --weights '' --name hardhat_results --cache"
      ],
      "execution_count": null,
      "outputs": []
    },
    {
      "cell_type": "code",
      "metadata": {
        "id": "qaYzbp8cBhdc"
      },
      "source": [
        "%load_ext tensorboard\n",
        "%tensorboard --logdir runs"
      ],
      "execution_count": null,
      "outputs": []
    },
    {
      "cell_type": "code",
      "metadata": {
        "id": "40C31lgaBhdc"
      },
      "source": [
        "!ls runs/train/hardhat_results/"
      ],
      "execution_count": null,
      "outputs": []
    },
    {
      "cell_type": "code",
      "metadata": {
        "id": "FwLDMj4mBhdd"
      },
      "source": [
        "Image(filename='runs/train/hardhat_results/results.png', width=1000)"
      ],
      "execution_count": null,
      "outputs": []
    },
    {
      "cell_type": "code",
      "metadata": {
        "id": "yUI9CVhGBhdd"
      },
      "source": [
        "Image(filename='runs/train/hardhat_results/train_batch0.jpg', width=1000)"
      ],
      "execution_count": null,
      "outputs": []
    },
    {
      "cell_type": "code",
      "metadata": {
        "id": "gt6aP4-NBhde"
      },
      "source": [
        "Image(filename='runs/train/hardhat_results/val_batch0_labels.jpg', width=1000)"
      ],
      "execution_count": null,
      "outputs": []
    },
    {
      "cell_type": "markdown",
      "metadata": {
        "id": "0MfhUE2w9i7p"
      },
      "source": [
        "### 검증(Validation)"
      ]
    },
    {
      "cell_type": "code",
      "metadata": {
        "id": "Bhq61CV09upr"
      },
      "source": [
        "!python val.py --weight runs/train/hardhat_results/weights/best.pt --data ./hardhat/data.yaml --img 416 --iou 0.65 --half"
      ],
      "execution_count": null,
      "outputs": []
    },
    {
      "cell_type": "code",
      "metadata": {
        "id": "nzTk45fQ-qHx"
      },
      "source": [
        "!python val.py --weight runs/train/hardhat_results/weights/best.pt --data ./hardhat/data.yaml --img 416 --task test"
      ],
      "execution_count": null,
      "outputs": []
    },
    {
      "cell_type": "markdown",
      "metadata": {
        "id": "W3G7DLkw2LcZ"
      },
      "source": [
        "### 추론(Inference)"
      ]
    },
    {
      "cell_type": "code",
      "metadata": {
        "id": "R9Oft93H2Lca"
      },
      "source": [
        "!python detect.py --weight runs/train/hardhat_results/weights/best.pt --img 416 --conf 0.4 --source ./hardhat/test/images"
      ],
      "execution_count": null,
      "outputs": []
    },
    {
      "cell_type": "code",
      "metadata": {
        "id": "V4IQMYIc2Lca"
      },
      "source": [
        "import glob\n",
        "import random\n",
        "from IPython.display import Image, display\n",
        "\n",
        "image_name = random.choice(glob.glob('/content/yolov5/runs/detect/exp3/*.jpg'))\n",
        "display(Image(filename=image_name))"
      ],
      "execution_count": null,
      "outputs": []
    },
    {
      "cell_type": "markdown",
      "metadata": {
        "id": "n9ptKuz-5Ct6"
      },
      "source": [
        "### 모델 내보내기"
      ]
    },
    {
      "cell_type": "code",
      "metadata": {
        "id": "Qru5bn4K5CPu"
      },
      "source": [
        "%mkdir /content/drive/MyDrive/hardhat\n",
        "%cp /content/yolov5/runs/train/hardhat_results/weights/best.pt /content/drive/MyDrive/hardhat"
      ],
      "execution_count": null,
      "outputs": []
    },
    {
      "cell_type": "markdown",
      "metadata": {
        "id": "mjW3Mq5b3Fe0"
      },
      "source": [
        "## 주차공간 탐지 모델"
      ]
    },
    {
      "cell_type": "markdown",
      "metadata": {
        "id": "xLjjx7ka3Fe0"
      },
      "source": [
        "### 데이터셋 다운로드\n",
        "\n",
        "* 주차공간 데이터셋: https://public.roboflow.com/object-detection/pklot"
      ]
    },
    {
      "cell_type": "code",
      "metadata": {
        "id": "_LtGfKnR3Fe0"
      },
      "source": [
        "%mkdir /content/yolov5/pklot\n",
        "%cd /content/yolov5/pklot\n",
        "!curl -L \"https://public.roboflow.com/ds/uTB9TrsAgh?key=5yPC4NCEMf\" > roboflow.zip; unzip roboflow.zip; rm roboflow.zip"
      ],
      "execution_count": null,
      "outputs": []
    },
    {
      "cell_type": "code",
      "metadata": {
        "id": "m_3FhC4HKk-D"
      },
      "source": [
        "from glob import glob\n",
        "\n",
        "train_img_list = glob('/content/yolov5/pklot/train/images/*.jpg')\n",
        "test_img_list = glob('/content/yolov5/pklot/test/images/*.jpg')\n",
        "valid_img_list = glob('/content/yolov5/pklot/valid/images/*.jpg')\n",
        "\n",
        "print(len(train_img_list), len(test_img_list), len(valid_img_list))"
      ],
      "execution_count": null,
      "outputs": []
    },
    {
      "cell_type": "code",
      "metadata": {
        "id": "ZuHOxW7rJvhM"
      },
      "source": [
        "import yaml\n",
        "\n",
        "with open('/content/yolov5/pklot/train.txt', 'w') as f:\n",
        "  f.write('`n'.join(train_img_list) + '`n')\n",
        "\n",
        "with open('/content/yolov5/pklot/test.txt', 'w') as f:\n",
        "  f.write('`n'.join(test_img_list) + '`n')\n",
        "\n",
        "with open('/content/yolov5/pklot/valid.txt', 'w') as f:\n",
        "  f.write('`n'.join(valid_img_list) + '`n')"
      ],
      "execution_count": null,
      "outputs": []
    },
    {
      "cell_type": "code",
      "metadata": {
        "id": "AiaPXjsVJviF"
      },
      "source": [
        "%cat /content/yolov5/pklot/data.yaml"
      ],
      "execution_count": null,
      "outputs": []
    },
    {
      "cell_type": "code",
      "metadata": {
        "id": "smE7dEvUJviF"
      },
      "source": [
        "%%writetemplate /content/yolov5/pklot/data.yaml\n",
        "\n",
        "train: ./pklot/train/images\n",
        "test: ./pklot/test/images\n",
        "val: ./pklot/valid/images\n",
        "\n",
        "nc: 2\n",
        "names: ['space-empty', 'space-occupied']"
      ],
      "execution_count": null,
      "outputs": []
    },
    {
      "cell_type": "markdown",
      "metadata": {
        "id": "1OB3JPwsJviH"
      },
      "source": [
        "### 모델 구성"
      ]
    },
    {
      "cell_type": "code",
      "metadata": {
        "id": "ud_hTKX6JviH"
      },
      "source": [
        "import yaml\n",
        "\n",
        "with open('data.yaml', 'r') as stream:\n",
        "  num_classes = str(yaml.safe_load(stream)['nc'])\n",
        "\n",
        "%cat /content/yolov5/models/yolov5s.yaml"
      ],
      "execution_count": null,
      "outputs": []
    },
    {
      "cell_type": "code",
      "metadata": {
        "id": "c8DgTew_JviH"
      },
      "source": [
        "%%writetemplate /content/yolov5/models/custom_yolov5s.yaml\n",
        "\n",
        "\n",
        "# Parameters\n",
        "nc: {num_classes}  # number of classes\n",
        "depth_multiple: 0.33  # model depth multiple\n",
        "width_multiple: 0.50  # layer channel multiple\n",
        "anchors:\n",
        "  - [10,13, 16,30, 33,23]  # P3/8\n",
        "  - [30,61, 62,45, 59,119]  # P4/16\n",
        "  - [116,90, 156,198, 373,326]  # P5/32\n",
        "\n",
        "# YOLOv5 v6.0 backbone\n",
        "backbone:\n",
        "  # [from, number, module, args]\n",
        "  [[-1, 1, Conv, [64, 6, 2, 2]],  # 0-P1/2\n",
        "   [-1, 1, Conv, [128, 3, 2]],  # 1-P2/4\n",
        "   [-1, 3, C3, [128]],\n",
        "   [-1, 1, Conv, [256, 3, 2]],  # 3-P3/8\n",
        "   [-1, 6, C3, [256]],\n",
        "   [-1, 1, Conv, [512, 3, 2]],  # 5-P4/16\n",
        "   [-1, 9, C3, [512]],\n",
        "   [-1, 1, Conv, [1024, 3, 2]],  # 7-P5/32\n",
        "   [-1, 3, C3, [1024]],\n",
        "   [-1, 1, SPPF, [1024, 5]],  # 9\n",
        "  ]\n",
        "\n",
        "# YOLOv5 v6.0 head\n",
        "head:\n",
        "  [[-1, 1, Conv, [512, 1, 1]],\n",
        "   [-1, 1, nn.Upsample, [None, 2, 'nearest']],\n",
        "   [[-1, 6], 1, Concat, [1]],  # cat backbone P4\n",
        "   [-1, 3, C3, [512, False]],  # 13\n",
        "\n",
        "   [-1, 1, Conv, [256, 1, 1]],\n",
        "   [-1, 1, nn.Upsample, [None, 2, 'nearest']],\n",
        "   [[-1, 4], 1, Concat, [1]],  # cat backbone P3\n",
        "   [-1, 3, C3, [256, False]],  # 17 (P3/8-small)\n",
        "\n",
        "   [-1, 1, Conv, [256, 3, 2]],\n",
        "   [[-1, 14], 1, Concat, [1]],  # cat head P4\n",
        "   [-1, 3, C3, [512, False]],  # 20 (P4/16-medium)\n",
        "\n",
        "   [-1, 1, Conv, [512, 3, 2]],\n",
        "   [[-1, 10], 1, Concat, [1]],  # cat head P5\n",
        "   [-1, 3, C3, [1024, False]],  # 23 (P5/32-large)\n",
        "\n",
        "   [[17, 20, 23], 1, Detect, [nc, anchors]],  # Detect(P3, P4, P5)\n",
        "  ]"
      ],
      "execution_count": null,
      "outputs": []
    },
    {
      "cell_type": "code",
      "metadata": {
        "id": "uh1fUpMS3oNl"
      },
      "source": [
        "%cat /content/yolov5/models/custom_yolov5s.yaml"
      ],
      "execution_count": null,
      "outputs": []
    },
    {
      "cell_type": "markdown",
      "metadata": {
        "id": "8ZrB1hY2JviH"
      },
      "source": [
        "### 학습(Training)\n",
        "\n",
        "* `img`: 입력 이미지 크기 정의\n",
        "* `batch`: 배치 크기 결정\n",
        "* `epochs`: 학습 기간 개수 정의\n",
        "* `data`: yaml 파일 경로\n",
        "* `cfg`: 모델 구성 지정\n",
        "* `weights`: 가중치에 대한 경로 지정\n",
        "* `name`: 결과 이름\n",
        "* `nosave`: 최종 체크포인트만 저장\n",
        "* `cache`: 빠른 학습을 위한 이미지 캐시"
      ]
    },
    {
      "cell_type": "code",
      "source": [],
      "metadata": {
        "id": "MQk27tLRA1La"
      },
      "execution_count": null,
      "outputs": []
    },
    {
      "cell_type": "code",
      "metadata": {
        "id": "BUJREnsVJviI"
      },
      "source": [
        "%time\n",
        "%cd /content/yolov5/\n",
        "\n",
        "!python train.py --img 640 --batch 32 --epochs 50 --data ./pklot/data.yaml --cfg ./models/custom_yolov5s.yaml --weights '' --name pklot_results --cache"
      ],
      "execution_count": null,
      "outputs": []
    },
    {
      "cell_type": "code",
      "source": [
        "%load_ext tensorboard\n",
        "%tensorboard --logdir runs"
      ],
      "metadata": {
        "id": "UzMUP-j9A1tQ"
      },
      "execution_count": null,
      "outputs": []
    },
    {
      "cell_type": "code",
      "metadata": {
        "id": "IljMkrF9JviI"
      },
      "source": [
        "!ls runs/train/pklot_results/"
      ],
      "execution_count": null,
      "outputs": []
    },
    {
      "cell_type": "code",
      "metadata": {
        "id": "58yONLt6JviI"
      },
      "source": [
        "Image(filename='runs/train/pklot_results/results.png', width=1000)"
      ],
      "execution_count": null,
      "outputs": []
    },
    {
      "cell_type": "code",
      "metadata": {
        "id": "AeisU1AqJviJ"
      },
      "source": [
        "Image(filename='runs/train/pklot_results/train_batch0.jpg', width=1000)"
      ],
      "execution_count": null,
      "outputs": []
    },
    {
      "cell_type": "code",
      "metadata": {
        "id": "HTyBRrS3JviJ"
      },
      "source": [
        "Image(filename='runs/train/pklot_results/val_batch0_labels.jpg', width=1000)"
      ],
      "execution_count": null,
      "outputs": []
    },
    {
      "cell_type": "markdown",
      "metadata": {
        "id": "GWDakXJlJviK"
      },
      "source": [
        "### 검증(Validation)"
      ]
    },
    {
      "cell_type": "code",
      "metadata": {
        "id": "eB4p2beHJviK"
      },
      "source": [
        "!python val.py --weight runs/train/pklot_results/weights/best.pt --data ./pklot/data.yaml --img 640 --iou 0.65 --half"
      ],
      "execution_count": null,
      "outputs": []
    },
    {
      "cell_type": "code",
      "metadata": {
        "id": "A16p4d1EJviK"
      },
      "source": [
        "!python val.py --weight runs/train/pklot_results/weights/best.pt --data ./pklot/data.yaml --img 640 --task test"
      ],
      "execution_count": null,
      "outputs": []
    },
    {
      "cell_type": "markdown",
      "metadata": {
        "id": "kIhmyxtIJviK"
      },
      "source": [
        "### 추론(Inference)"
      ]
    },
    {
      "cell_type": "code",
      "metadata": {
        "id": "c8tkMMXMJviK"
      },
      "source": [
        "!python detect.py --weight runs/train/pklot_results/weights/best.pt --img 640 --conf 0.4 --source ./pklot/test/images"
      ],
      "execution_count": null,
      "outputs": []
    },
    {
      "cell_type": "code",
      "metadata": {
        "id": "OGUMFm5uJviL"
      },
      "source": [
        "import glob\n",
        "import random\n",
        "from IPython.display import Image, display\n",
        "# 약간 지금 ram 부족한거 보니 여기까지인가 보다 2022.12.26 오후 3:04 분 곧 죽을거 같고, 만약 돌이가면 exp확인하고 돌리자 \n",
        "image_name = random.choice(glob.glob('/content/yolov5/runs/detect/exp4/*.jpg'))\n",
        "display(Image(filename=image_name))"
      ],
      "execution_count": null,
      "outputs": []
    },
    {
      "cell_type": "code",
      "metadata": {
        "id": "4_90c0uFJviL"
      },
      "source": [],
      "execution_count": null,
      "outputs": []
    },
    {
      "cell_type": "markdown",
      "metadata": {
        "id": "1anp6QwcJviM"
      },
      "source": [
        "### 모델 내보내기"
      ]
    },
    {
      "cell_type": "code",
      "metadata": {
        "id": "Iu0nFYm4JviM"
      },
      "source": [
        "%mkdir /content/drive/MyDrive/pklot\n",
        "%cp /content/yolov5/runs/train/pklot_results/weights/best.pt /content/drive/MyDrive/pklot"
      ],
      "execution_count": null,
      "outputs": []
    },
    {
      "cell_type": "code",
      "metadata": {
        "id": "dfNfasE1JviM"
      },
      "source": [],
      "execution_count": null,
      "outputs": []
    }
  ]
}